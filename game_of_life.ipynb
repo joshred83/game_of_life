{
 "nbformat": 4,
 "nbformat_minor": 2,
 "metadata": {
  "language_info": {
   "name": "python",
   "codemirror_mode": {
    "name": "ipython",
    "version": 3
   },
   "version": "3.7.6-final"
  },
  "orig_nbformat": 2,
  "file_extension": ".py",
  "mimetype": "text/x-python",
  "name": "python",
  "npconvert_exporter": "python",
  "pygments_lexer": "ipython3",
  "version": 3,
  "kernelspec": {
   "name": "python3",
   "display_name": "Python 3"
  }
 },
 "cells": [
  {
   "cell_type": "code",
   "execution_count": null,
   "metadata": {},
   "outputs": [],
   "source": [
    "from matplotlib import pyplot as pyplot\n",
    "import numpy as np\n",
    "import seaborn as sns"
   ]
  },
  {
   "cell_type": "code",
   "execution_count": 51,
   "metadata": {},
   "outputs": [
    {
     "output_type": "execute_result",
     "data": {
      "text/plain": "array([[0, 1, 1, 0, 1, 1, 1, 0, 0, 0],\n       [0, 1, 0, 0, 1, 0, 1, 0, 0, 1],\n       [1, 0, 0, 1, 1, 0, 1, 1, 0, 0],\n       [0, 0, 1, 0, 1, 1, 0, 0, 1, 0],\n       [1, 0, 0, 1, 0, 0, 1, 1, 0, 0]])"
     },
     "metadata": {},
     "execution_count": 51
    }
   ],
   "source": [
    "WIDTH = 10\n",
    "HEIGHT = 5\n",
    "board = np.random.choice([0,1], WIDTH * HEIGHT).reshape((HEIGHT,WIDTH))\n",
    "board"
   ]
  },
  {
   "cell_type": "code",
   "execution_count": 53,
   "metadata": {},
   "outputs": [],
   "source": [
    "for row_ix, row in enumerate(board):\n",
    "    for col_ix, cell in enumerate(row):\n",
    "        left_col = max(0, col_ix - 1)\n",
    "        right_col = min(col_ix + 2, WIDTH)\n",
    "        top_row = max(0, row_ix - 1)\n",
    "        bottom_row = min(row_ix + 2, HEIGHT)\n",
    "        neighborhood = board[top_row:bottom_row, left_col:right_col]\n",
    "        cell_col_loc = 1 if col_ix > 0 else 0\n",
    "        cell_row_loc = 1 if row_ix > 0 else 0\n",
    "        cell_loc = cell_row_loc, cell_col_loc\n",
    "\n",
    "        \n",
    "\n",
    "   "
   ]
  },
  {
   "cell_type": "code",
   "execution_count": null,
   "metadata": {},
   "outputs": [],
   "source": [
    "board"
   ]
  },
  {
   "cell_type": "code",
   "execution_count": null,
   "metadata": {},
   "outputs": [],
   "source": [
    "neighborhood"
   ]
  },
  {
   "cell_type": "code",
   "execution_count": null,
   "metadata": {},
   "outputs": [],
   "source": []
  }
 ]
}